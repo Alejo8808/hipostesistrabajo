{
 "cells": [
  {
   "cell_type": "markdown",
   "id": "15a2bece",
   "metadata": {},
   "source": [
    "Ejercicio de práctica"
   ]
  },
  {
   "cell_type": "markdown",
   "id": "b3a56c77",
   "metadata": {},
   "source": [
    "Usando un dataset diferente:"
   ]
  },
  {
   "cell_type": "markdown",
   "id": "8c07e749",
   "metadata": {},
   "source": [
    "- Aplicar prueba de independencia entre dos variables categóricas (ej: edad y frecuencia de compra)\n",
    "\n",
    "- Aplicar prueba de bondad de ajuste con alguna variable categórica.\n",
    "\n",
    "- Concluir si hay relación y cómo eso podría afectar un futuro modelo de clasificación."
   ]
  },
  {
   "cell_type": "code",
   "execution_count": 8,
   "id": "a9468610",
   "metadata": {},
   "outputs": [],
   "source": [
    "import pandas as pd\n",
    "import numpy as np\n",
    "from scipy.stats import chi2_contingency, chisquare\n",
    "import seaborn as sns\n",
    "import matplotlib.pyplot as plt"
   ]
  },
  {
   "cell_type": "code",
   "execution_count": 9,
   "id": "1549445c",
   "metadata": {},
   "outputs": [],
   "source": [
    "# 1. Carga tu base de datos desde el archivo CSV\n",
    "file_path = \"survey lung cancer.csv\"\n",
    "df = pd.read_csv(file_path)"
   ]
  },
  {
   "cell_type": "code",
   "execution_count": 10,
   "id": "28a52b62",
   "metadata": {},
   "outputs": [
    {
     "name": "stdout",
     "output_type": "stream",
     "text": [
      "Index(['GENDER', 'AGE', 'SMOKING', 'YELLOW_FINGERS', 'ANXIETY',\n",
      "       'PEER_PRESSURE', 'CHRONIC DISEASE', 'FATIGUE ', 'ALLERGY ', 'WHEEZING',\n",
      "       'ALCOHOL CONSUMING', 'COUGHING', 'SHORTNESS OF BREATH',\n",
      "       'SWALLOWING DIFFICULTY', 'CHEST PAIN', 'LUNG_CANCER'],\n",
      "      dtype='object')\n"
     ]
    }
   ],
   "source": [
    "# 2. Explora los datos\n",
    "print(df.columns)"
   ]
  },
  {
   "cell_type": "code",
   "execution_count": 22,
   "id": "c6e04c82",
   "metadata": {},
   "outputs": [],
   "source": [
    "# 3.Aquí, por ejemplo, probaremos la relación entre 'Fumador' y 'Género'\n",
    "tabla_contingencia = pd.crosstab(df['SMOKING'], df['LUNG_CANCER'])"
   ]
  },
  {
   "cell_type": "code",
   "execution_count": 23,
   "id": "b77213a5",
   "metadata": {},
   "outputs": [
    {
     "data": {
      "image/png": "[encoded data removed]",
      "text/plain": [
       "<Figure size 800x600 with 2 Axes>"
      ]
     },
     "metadata": {},
     "output_type": "display_data"
    }
   ],
   "source": [
    "# 4. Visualiza la tabla de contingencia\n",
    "plt.figure(figsize=(8, 6))\n",
    "sns.heatmap(tabla_contingencia, annot=True, cmap='YlGnBu', fmt=\"d\")\n",
    "plt.title('Relación entre Hábito de Fumar y Cáncer de Pulmón')\n",
    "plt.show()"
   ]
  },
  {
   "cell_type": "code",
   "execution_count": 24,
   "id": "ce9df568",
   "metadata": {},
   "outputs": [
    {
     "name": "stdout",
     "output_type": "stream",
     "text": [
      "Estadístico Chi²: 0.7225\n",
      "Valor p: 0.3953\n"
     ]
    }
   ],
   "source": [
    "# 5. Realiza la prueba de Chi² de independencia\n",
    "chi2, p, dof, expected = chi2_contingency(tabla_contingencia)\n",
    "print(f\"Estadístico Chi²: {chi2:.4f}\")\n",
    "print(f\"Valor p: {p:.4f}\")"
   ]
  },
  {
   "cell_type": "code",
   "execution_count": 25,
   "id": "c02d8a9d",
   "metadata": {},
   "outputs": [
    {
     "name": "stdout",
     "output_type": "stream",
     "text": [
      "No hay evidencia suficiente para afirmar que el hábito de fumar depende del cáncer de pulmón.\n",
      "\n",
      "==================================================\n",
      "\n"
     ]
    }
   ],
   "source": [
    "# 6. Interpreta los resultados\n",
    "if p < 0.05:\n",
    "    print(\"Hay evidencia estadística de que el hábito de fumar está relacionado con el cáncer de pulmón.\")\n",
    "else:\n",
    "    print(\"No hay evidencia suficiente para afirmar que el hábito de fumar depende del cáncer de pulmón.\")\n",
    "\n",
    "    print(\"\\n\" + \"=\"*50 + \"\\n\")\n",
    "    \n"
   ]
  },
  {
   "cell_type": "code",
   "execution_count": 26,
   "id": "d47306d7",
   "metadata": {},
   "outputs": [],
   "source": [
    "# 7. Prueba de bondad de ajuste (Chi² tipo 3)\n",
    "# Comprueba si la distribución de una variable (ej. 'GÉNERO') es como se esperaba.\n",
    "# 2. Cuenta las observaciones de cada categoría (ej. Hombre, Mujer)\n",
    "observado = df['LUNG_CANCER'].value_counts().sort_index()"
   ]
  },
  {
   "cell_type": "code",
   "execution_count": 27,
   "id": "93b04c64",
   "metadata": {},
   "outputs": [],
   "source": [
    "# 8. Define la distribución esperada (asumimos una distribución uniforme: 50% Hombres, 50% Mujeres)\n",
    "num_categorias = len(observado)\n",
    "total_observaciones = len(df)\n",
    "esperado = [total_observaciones / num_categorias] * num_categorias\n"
   ]
  },
  {
   "cell_type": "code",
   "execution_count": 28,
   "id": "1e81a01f",
   "metadata": {},
   "outputs": [
    {
     "name": "stdout",
     "output_type": "stream",
     "text": [
      "--- Prueba de bondad de ajuste (Chi² tipo 3) ---\n",
      "Chi²: 172.6893\n",
      "Valor p: 0.0000\n"
     ]
    }
   ],
   "source": [
    "# 9. Realiza la prueba de Chi-Cuadrado de bondad de ajuste\n",
    "test_ajuste = chisquare(f_obs=observado, f_exp=esperado)\n",
    "print(\"--- Prueba de bondad de ajuste (Chi² tipo 3) ---\")\n",
    "print(f\"Chi²: {test_ajuste.statistic:.4f}\")\n",
    "print(f\"Valor p: {test_ajuste.pvalue:.4f}\")"
   ]
  },
  {
   "cell_type": "code",
   "execution_count": 29,
   "id": "700e7518",
   "metadata": {},
   "outputs": [
    {
     "name": "stdout",
     "output_type": "stream",
     "text": [
      "La distribución de cáncer observada difiere de lo que esperábamos (distribución uniforme).\n"
     ]
    }
   ],
   "source": [
    "# 10. Interpreta los resultados\n",
    "if test_ajuste.pvalue < 0.05:\n",
    "    print(\"La distribución de cáncer observada difiere de lo que esperábamos (distribución uniforme).\")\n",
    "else:\n",
    "    print(\"No hay diferencia significativa en la distribución de cáncer.\")"
   ]
  },
  {
   "cell_type": "markdown",
   "id": "f467ba22",
   "metadata": {},
   "source": [
    "Conclusión a partir de los resultados\n",
    "\n",
    "- Si el valor p es menor que 0.05:\n",
    "  Esto significa que la relación entre las variables no es producto del azar. En este caso, el hábito de fumar y el cancer de pulmon son variables que están relacionadas.\n",
    "\n",
    "- Si el valor p es mayor que 0.05:\n",
    "  Esto significa que no hay suficiente evidencia estadística para afirmar que existe una relación entre las variables. Cualquier asociación observada en los datos podría ser por casualidad."
   ]
  },
  {
   "cell_type": "markdown",
   "id": "6b5d236a",
   "metadata": {},
   "source": [
    "Impacto en un futuro modelo de clasificación\n",
    "\n",
    "- Un modelo de clasificación predice una etiqueta (por ejemplo, si un paciente tiene cáncer de pulmón) basándose en las características del paciente (variables   como fumar, género, etc.). La relación entre estas variables afecta al modelo de la siguiente manera:\n",
    "\n",
    "- Selección de Características: Si la prueba de hipótesis muestra que el hábito de fumar y el cancer de pulmon están relacionados, estas variables son       importantes para    el modelo. Un buen modelo de clasificación utilizará estas características para hacer predicciones más precisas.\n",
    "\n",
    "- Precisión del Modelo: Usar variables que tienen una relación significativa con el resultado que quieres predecir (como el riesgo de cáncer de pulmón) aumentará la   precisión de tu modelo. Por el contrario, usar variables no relacionadas o que tienen una relación débil podría hacer que el modelo sea menos efectivo."
   ]
  }
 ],
 "metadata": {
  "kernelspec": {
   "display_name": "Python 3",
   "language": "python",
   "name": "python3"
  },
  "language_info": {
   "codemirror_mode": {
    "name": "ipython",
    "version": 3
   },
   "file_extension": ".py",
   "mimetype": "text/x-python",
   "name": "python",
   "nbconvert_exporter": "python",
   "pygments_lexer": "ipython3",
   "version": "3.13.5"
  }
 },
 "nbformat": 4,
 "nbformat_minor": 5
}
