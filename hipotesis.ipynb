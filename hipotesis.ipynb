{
 "cells": [
  {
   "cell_type": "markdown",
   "id": "d02639c7",
   "metadata": {},
   "source": [
    "Pruebas de Hipótesis"
   ]
  },
  {
   "cell_type": "markdown",
   "id": "59919677",
   "metadata": {},
   "source": [
    "¿Ustedes creen que hay relación entre el consumo de helado y que el día sea soleado? ¿O es pura coincidencia?"
   ]
  },
  {
   "cell_type": "code",
   "execution_count": 4,
   "id": "7e8202f1",
   "metadata": {},
   "outputs": [],
   "source": [
    "import pandas as pd\n",
    "import numpy as np\n",
    "from scipy.stats import chi2_contingency, chisquare\n",
    "import seaborn as sns\n",
    "import matplotlib.pyplot as plt\n",
    "\n",
    "observaciones = pd.DataFrame({\n",
    "    'clima': np.random.choice(['Soleado', 'Nublado'], size=1000, p=[0.6, 0.4]),\n",
    "    'helado': np.random.choice(['Sí', 'No'], size=1000, p=[0.6, 0.4])\n",
    "})"
   ]
  },
  {
   "cell_type": "code",
   "execution_count": 5,
   "id": "8206f804",
   "metadata": {},
   "outputs": [
    {
     "data": {
      "text/html": [
       "<div>\n",
       "<style scoped>\n",
       "    .dataframe tbody tr th:only-of-type {\n",
       "        vertical-align: middle;\n",
       "    }\n",
       "\n",
       "    .dataframe tbody tr th {\n",
       "        vertical-align: top;\n",
       "    }\n",
       "\n",
       "    .dataframe thead th {\n",
       "        text-align: right;\n",
       "    }\n",
       "</style>\n",
       "<table border=\"1\" class=\"dataframe\">\n",
       "  <thead>\n",
       "    <tr style=\"text-align: right;\">\n",
       "      <th></th>\n",
       "      <th>clima</th>\n",
       "      <th>helado</th>\n",
       "    </tr>\n",
       "  </thead>\n",
       "  <tbody>\n",
       "    <tr>\n",
       "      <th>0</th>\n",
       "      <td>Nublado</td>\n",
       "      <td>Sí</td>\n",
       "    </tr>\n",
       "    <tr>\n",
       "      <th>1</th>\n",
       "      <td>Soleado</td>\n",
       "      <td>Sí</td>\n",
       "    </tr>\n",
       "    <tr>\n",
       "      <th>2</th>\n",
       "      <td>Nublado</td>\n",
       "      <td>Sí</td>\n",
       "    </tr>\n",
       "    <tr>\n",
       "      <th>3</th>\n",
       "      <td>Soleado</td>\n",
       "      <td>No</td>\n",
       "    </tr>\n",
       "    <tr>\n",
       "      <th>4</th>\n",
       "      <td>Nublado</td>\n",
       "      <td>No</td>\n",
       "    </tr>\n",
       "    <tr>\n",
       "      <th>...</th>\n",
       "      <td>...</td>\n",
       "      <td>...</td>\n",
       "    </tr>\n",
       "    <tr>\n",
       "      <th>995</th>\n",
       "      <td>Nublado</td>\n",
       "      <td>Sí</td>\n",
       "    </tr>\n",
       "    <tr>\n",
       "      <th>996</th>\n",
       "      <td>Nublado</td>\n",
       "      <td>Sí</td>\n",
       "    </tr>\n",
       "    <tr>\n",
       "      <th>997</th>\n",
       "      <td>Soleado</td>\n",
       "      <td>No</td>\n",
       "    </tr>\n",
       "    <tr>\n",
       "      <th>998</th>\n",
       "      <td>Soleado</td>\n",
       "      <td>Sí</td>\n",
       "    </tr>\n",
       "    <tr>\n",
       "      <th>999</th>\n",
       "      <td>Soleado</td>\n",
       "      <td>Sí</td>\n",
       "    </tr>\n",
       "  </tbody>\n",
       "</table>\n",
       "<p>1000 rows × 2 columns</p>\n",
       "</div>"
      ],
      "text/plain": [
       "       clima helado\n",
       "0    Nublado     Sí\n",
       "1    Soleado     Sí\n",
       "2    Nublado     Sí\n",
       "3    Soleado     No\n",
       "4    Nublado     No\n",
       "..       ...    ...\n",
       "995  Nublado     Sí\n",
       "996  Nublado     Sí\n",
       "997  Soleado     No\n",
       "998  Soleado     Sí\n",
       "999  Soleado     Sí\n",
       "\n",
       "[1000 rows x 2 columns]"
      ]
     },
     "execution_count": 5,
     "metadata": {},
     "output_type": "execute_result"
    }
   ],
   "source": [
    "observaciones"
   ]
  },
  {
   "cell_type": "code",
   "execution_count": 6,
   "id": "ef4c342e",
   "metadata": {},
   "outputs": [],
   "source": [
    "# Supongamos que los días soleados tienen más consumo de helado\n",
    "for i in observaciones.index:\n",
    "    if observaciones.loc[i, 'clima'] == 'Nublado':\n",
    "        observaciones.loc[i, 'helado'] = np.random.choice(['Sí', 'No'], p=[0.8, 0.2])\n",
    "    else:\n",
    "        observaciones.loc[i, 'helado'] = np.random.choice(['Sí', 'No'], p=[0.3, 0.7])"
   ]
  },
  {
   "cell_type": "code",
   "execution_count": 7,
   "id": "9f1f2adc",
   "metadata": {},
   "outputs": [
    {
     "data": {
      "text/plain": [
       "clima    helado\n",
       "Soleado  No        426\n",
       "Nublado  Sí        336\n",
       "Soleado  Sí        174\n",
       "Nublado  No         64\n",
       "Name: count, dtype: int64"
      ]
     },
     "execution_count": 7,
     "metadata": {},
     "output_type": "execute_result"
    }
   ],
   "source": [
    "observaciones.value_counts()"
   ]
  },
  {
   "cell_type": "code",
   "execution_count": 8,
   "id": "1bfd79d0",
   "metadata": {},
   "outputs": [
    {
     "data": {
      "image/png": "[encoded data removed]",
      "text/plain": [
       "<Figure size 640x480 with 2 Axes>"
      ]
     },
     "metadata": {},
     "output_type": "display_data"
    },
    {
     "name": "stdout",
     "output_type": "stream",
     "text": [
      "Estadístico Chi²: 288.3195\n",
      "Valor p: 0.0000\n",
      "➡ Hay evidencia estadística de que el consumo de helado está relacionado con el clima.\n"
     ]
    }
   ],
   "source": [
    "# Tabla de contingencia\n",
    "tabla_helado = pd.crosstab(observaciones['clima'], observaciones['helado'])\n",
    "\n",
    "# Visualización\n",
    "sns.heatmap(tabla_helado, annot=True, cmap='YlGnBu', fmt=\".4g\")\n",
    "plt.title('Consumo de helado según el clima')\n",
    "plt.show()\n",
    "\n",
    "# Prueba Chi² de independencia\n",
    "chi2, p, dof, expected = chi2_contingency(tabla_helado)\n",
    "print(f\"Estadístico Chi²: {chi2:.4f}\")\n",
    "print(f\"Valor p: {p:.4f}\")\n",
    "\n",
    "if p < 0.05:\n",
    "    print(\"➡ Hay evidencia estadística de que el consumo de helado está relacionado con el clima.\")\n",
    "else:\n",
    "    print(\"➡ No hay evidencia suficiente para afirmar que el consumo de helado depende del clima.\")"
   ]
  },
  {
   "cell_type": "markdown",
   "id": "aa4ec760",
   "metadata": {},
   "source": [
    "¿Qué es una prueba de hipótesis?"
   ]
  },
  {
   "cell_type": "markdown",
   "id": "83d8509e",
   "metadata": {},
   "source": [
    "Una prueba de hipótesis es un procedimiento estadístico para tomar decisiones basadas en datos. Nos permite validar si una afirmación sobre una población es razonable a partir de una muestra."
   ]
  },
  {
   "cell_type": "markdown",
   "id": "58acc774",
   "metadata": {},
   "source": [
    "Elementos clave:"
   ]
  },
  {
   "cell_type": "markdown",
   "id": "10ad125e",
   "metadata": {},
   "source": [
    "- Hipótesis nula (H0): Suposición inicial (ej: no hay relación entre variables)\n",
    "\n",
    "- Hipótesis alternativa (H1): Lo que queremos comprobar (ej: sí hay relación)\n",
    "\n",
    "- Valor p (p-value): Probabilidad de observar un resultado igual o más extremo si H0 es cierta\n",
    "\n",
    "- Nivel de significancia (α): Umbral comúnmente usado es 0.05"
   ]
  },
  {
   "cell_type": "markdown",
   "id": "75d4f4a9",
   "metadata": {},
   "source": [
    "Reglas básicas:"
   ]
  },
  {
   "cell_type": "markdown",
   "id": "099bcf8f",
   "metadata": {},
   "source": [
    "- Si p < α → Rechazamos H0 (hay evidencia a favor de H1)\n",
    "\n",
    "- Si p >= α → No se puede rechazar H0"
   ]
  },
  {
   "cell_type": "markdown",
   "id": "d1ac7ed5",
   "metadata": {},
   "source": [
    "Ejemplo 1: Chi² de independencia"
   ]
  },
  {
   "cell_type": "markdown",
   "id": "81dc45dd",
   "metadata": {},
   "source": [
    "En un conjunto simulado de encuestas se quiere analizar si existe relación entre el género y la calificación de satisfacción del cliente sobre un producto"
   ]
  },
  {
   "cell_type": "code",
   "execution_count": 9,
   "id": "04652484",
   "metadata": {},
   "outputs": [],
   "source": [
    "# Simulamos datos de encuesta\n",
    "np.random.seed(42)\n",
    "encuesta = pd.DataFrame({\n",
    "    'genero': np.random.choice(['M', 'F'], size=100),\n",
    "    'calificacion_satisfaccion': np.random.choice(['Baja', 'Media', 'Alta'], size=100, p=[0.3, 0.4, 0.3])\n",
    "})"
   ]
  },
  {
   "cell_type": "code",
   "execution_count": 10,
   "id": "db8fbbaf",
   "metadata": {},
   "outputs": [
    {
     "data": {
      "text/html": [
       "<div>\n",
       "<style scoped>\n",
       "    .dataframe tbody tr th:only-of-type {\n",
       "        vertical-align: middle;\n",
       "    }\n",
       "\n",
       "    .dataframe tbody tr th {\n",
       "        vertical-align: top;\n",
       "    }\n",
       "\n",
       "    .dataframe thead th {\n",
       "        text-align: right;\n",
       "    }\n",
       "</style>\n",
       "<table border=\"1\" class=\"dataframe\">\n",
       "  <thead>\n",
       "    <tr style=\"text-align: right;\">\n",
       "      <th></th>\n",
       "      <th>genero</th>\n",
       "      <th>calificacion_satisfaccion</th>\n",
       "    </tr>\n",
       "  </thead>\n",
       "  <tbody>\n",
       "    <tr>\n",
       "      <th>0</th>\n",
       "      <td>M</td>\n",
       "      <td>Alta</td>\n",
       "    </tr>\n",
       "    <tr>\n",
       "      <th>1</th>\n",
       "      <td>F</td>\n",
       "      <td>Alta</td>\n",
       "    </tr>\n",
       "    <tr>\n",
       "      <th>2</th>\n",
       "      <td>M</td>\n",
       "      <td>Alta</td>\n",
       "    </tr>\n",
       "    <tr>\n",
       "      <th>3</th>\n",
       "      <td>M</td>\n",
       "      <td>Alta</td>\n",
       "    </tr>\n",
       "    <tr>\n",
       "      <th>4</th>\n",
       "      <td>M</td>\n",
       "      <td>Media</td>\n",
       "    </tr>\n",
       "    <tr>\n",
       "      <th>...</th>\n",
       "      <td>...</td>\n",
       "      <td>...</td>\n",
       "    </tr>\n",
       "    <tr>\n",
       "      <th>95</th>\n",
       "      <td>F</td>\n",
       "      <td>Baja</td>\n",
       "    </tr>\n",
       "    <tr>\n",
       "      <th>96</th>\n",
       "      <td>F</td>\n",
       "      <td>Media</td>\n",
       "    </tr>\n",
       "    <tr>\n",
       "      <th>97</th>\n",
       "      <td>F</td>\n",
       "      <td>Media</td>\n",
       "    </tr>\n",
       "    <tr>\n",
       "      <th>98</th>\n",
       "      <td>F</td>\n",
       "      <td>Baja</td>\n",
       "    </tr>\n",
       "    <tr>\n",
       "      <th>99</th>\n",
       "      <td>M</td>\n",
       "      <td>Baja</td>\n",
       "    </tr>\n",
       "  </tbody>\n",
       "</table>\n",
       "<p>100 rows × 2 columns</p>\n",
       "</div>"
      ],
      "text/plain": [
       "   genero calificacion_satisfaccion\n",
       "0       M                      Alta\n",
       "1       F                      Alta\n",
       "2       M                      Alta\n",
       "3       M                      Alta\n",
       "4       M                     Media\n",
       "..    ...                       ...\n",
       "95      F                      Baja\n",
       "96      F                     Media\n",
       "97      F                     Media\n",
       "98      F                      Baja\n",
       "99      M                      Baja\n",
       "\n",
       "[100 rows x 2 columns]"
      ]
     },
     "execution_count": 10,
     "metadata": {},
     "output_type": "execute_result"
    }
   ],
   "source": [
    "encuesta"
   ]
  },
  {
   "cell_type": "code",
   "execution_count": 11,
   "id": "b5ed28b2",
   "metadata": {},
   "outputs": [],
   "source": [
    "# Agregamos dependencia artificial: las mujeres tienden a reportar más satisfacción alta\n",
    "for i in encuesta.index:\n",
    "    if encuesta.loc[i, 'genero'] == 'F':\n",
    "        encuesta.loc[i, 'calificacion_satisfaccion'] = np.random.choice(['Baja', 'Media', 'Alta'], p=[0.2, 0.3, 0.5])\n",
    "    else:\n",
    "        encuesta.loc[i, 'calificacion_satisfaccion'] = np.random.choice(['Baja', 'Media', 'Alta'], p=[0.4, 0.4, 0.2])"
   ]
  },
  {
   "cell_type": "markdown",
   "id": "f65f5015",
   "metadata": {},
   "source": [
    "encuesta.value"
   ]
  }
 ],
 "metadata": {
  "kernelspec": {
   "display_name": "Python 3",
   "language": "python",
   "name": "python3"
  },
  "language_info": {
   "codemirror_mode": {
    "name": "ipython",
    "version": 3
   },
   "file_extension": ".py",
   "mimetype": "text/x-python",
   "name": "python",
   "nbconvert_exporter": "python",
   "pygments_lexer": "ipython3",
   "version": "3.13.5"
  }
 },
 "nbformat": 4,
 "nbformat_minor": 5
}
